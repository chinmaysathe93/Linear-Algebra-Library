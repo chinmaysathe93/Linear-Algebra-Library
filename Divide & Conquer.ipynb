{
 "cells": [
  {
   "cell_type": "code",
   "execution_count": 1,
   "metadata": {},
   "outputs": [],
   "source": [
    "from numpy import linalg as LA\n",
    "import numpy as np\n",
    "\n",
    "\n",
    "\n",
    "def getscrpt(x,flag,subs=0):\n",
    "    if(type(x)==int):\n",
    "        x = str(x)\n",
    "    normal = \"t0123456789+-=()\"\n",
    "    super_s = \"ᵗ⁰¹²³⁴⁵⁶⁷⁸⁹⁺⁻⁼⁽⁾\"\n",
    "    sub_s = \"ₜ₀₁₂₃₄₅₆₇₈₉₊₋₌₍₎\"\n",
    "    if subs==1:\n",
    "        res = x.maketrans(''.join(normal), ''.join(sub_s))\n",
    "    else:\n",
    "        res = x.maketrans(''.join(normal), ''.join(super_s))\n",
    "    if flag==1:\n",
    "        if subs==1:\n",
    "            return \"₍\"+x.translate(res)+\"₎\"\n",
    "        else:\n",
    "            return \"⁽\"+x.translate(res)+\"⁾\"\n",
    "    else:\n",
    "        return x.translate(res) "
   ]
  },
  {
   "cell_type": "markdown",
   "metadata": {},
   "source": [
    "# 1. Input"
   ]
  },
  {
   "cell_type": "code",
   "execution_count": 2,
   "metadata": {},
   "outputs": [],
   "source": [
    "A = np.array([\n",
    "    [1, 3, 4],\n",
    "    [3, 2, -1],\n",
    "    [4, -1, 1]\n",
    "])\n"
   ]
  },
  {
   "cell_type": "code",
   "execution_count": 3,
   "metadata": {},
   "outputs": [
    {
     "name": "stdout",
     "output_type": "stream",
     "text": [
      "S: 5.0\n",
      "\n",
      "x2: 0.8944271909999159\n",
      "\n",
      "x3: 0.4472135954999579\n",
      "\n",
      "v1: \n",
      "[[0.        ]\n",
      " [0.89442719]\n",
      " [0.4472136 ]]\n",
      "\n",
      "T1: \n",
      "[[ 1.   0.   0. ]\n",
      " [ 0.  -0.6 -0.8]\n",
      " [ 0.  -0.8  0.6]]\n",
      "\n",
      "Tridiagonal form(T): \n",
      "\n",
      "[[ 1.  -5.   0. ]\n",
      " [-5.   0.4  0.2]\n",
      " [ 0.   0.2  2.6]]\n",
      "-------------------------------------------------------------------------------------------\n",
      "\n",
      "\n",
      "Define T1 and T2 from T\n",
      " k is 2\n",
      "\n",
      "\n",
      "bk = 0.2\n",
      "\n",
      "T1: \n",
      "[[ 1.  -5. ]\n",
      " [-5.   0.2]]\n",
      "\n",
      "T2: \n",
      "[[2.4]]\n",
      "\n",
      "Since T1 and T2 are symmetric tridiagonal. we can find orthogonal matrices Q1 and Q2 \n",
      "such that T1 = Q1D1Q1ᵗ and T2 = Q2D2Q2ᵗ\n",
      "\n",
      "D1: \t\n",
      "[[ 5.61597448  0.        ]\n",
      " [ 0.         -4.41597448]]\n",
      "\n",
      "Q1: \n",
      "[[ 0.73476024  0.6783269 ]\n",
      " [-0.6783269   0.73476024]]\n",
      "\n",
      "\n",
      "Q1ᵗ: \n",
      "[[ 0.73476024 -0.6783269 ]\n",
      " [ 0.6783269   0.73476024]]\n",
      "\n",
      "\n",
      "D2: \n",
      "[[2.4]]\n",
      "\n",
      "Q2: \n",
      "[[1.]]\n",
      "\n",
      "Q2ᵗ: \n",
      "[[1.]]\n",
      "\n",
      "\n",
      "v: \n",
      "[[0.]\n",
      " [1.]\n",
      " [1.]]\n",
      "\n",
      "\n",
      "Q Diagonal: \n",
      "[[ 0.73476024  0.6783269   0.        ]\n",
      " [-0.6783269   0.73476024  0.        ]\n",
      " [ 0.          0.          1.        ]]\n",
      "\n",
      "D Diagonal: \n",
      "[[ 5.61597448  0.          0.        ]\n",
      " [ 0.         -4.41597448  0.        ]\n",
      " [ 0.          0.          2.4       ]]\n",
      "\n",
      "\n",
      "Q.T Diagonal: \n",
      "[[ 0.73476024 -0.6783269   0.        ]\n",
      " [ 0.6783269   0.73476024  0.        ]\n",
      " [ 0.          0.          1.        ]]\n",
      "\n",
      "\n",
      "u: \n",
      "[[-0.6783269 ]\n",
      " [ 0.73476024]\n",
      " [ 1.        ]]\n",
      "\n",
      "D_hat: \n",
      "[[ 5.70799996 -0.09968153 -0.13566538]\n",
      " [-0.09968153 -4.30799996  0.14695205]\n",
      " [-0.13566538  0.14695205  2.6       ]]\n",
      "\n",
      "Eigen values and corresponding Eigen Vectors of D_hat are:\n",
      "\n",
      "lambda_1: 5.715031957585767\n",
      "q_1: [ 0.99897523 -0.01058025 -0.04400634]\n",
      "\n",
      "\n",
      "\n",
      "lambda_2: 2.597027581216397\n",
      "q_2: [-0.04421739 -0.02061822 -0.99880915]\n",
      "\n",
      "\n",
      "\n",
      "lambda_3: -4.3120595388021625\n",
      "q_3: [-0.00966032 -0.99973144  0.02106492]\n",
      "\n",
      "\n",
      "\n"
     ]
    }
   ],
   "source": [
    "\n",
    "\n",
    "s = np.sqrt(A[0][1]**2 + A[0][2]**2)\n",
    "print(f\"S: {s}\")\n",
    "\n",
    "x2 = np.sqrt(1/2 * (1 + A[0][1]/s))\n",
    "print(f\"\\nx2: {x2}\")\n",
    "\n",
    "x3 = A[0][2] / (2*x2*s)\n",
    "print(f\"\\nx3: {x3}\")\n",
    "\n",
    "v1 = np.array([[0], [x2], [x3]])\n",
    "print(f\"\\nv1: \\n{v1}\")\n",
    "\n",
    "T1 = np.identity(3) - 2*np.matmul(v1,v1.T)\n",
    "print(f\"\\nT1: \\n{T1}\")\n",
    "\n",
    "T = np.around(np.matmul(np.matmul(T1,A), T1), decimals=2)\n",
    "print(f\"\\nTridiagonal form(T): \\n\\n{T}\")\n",
    "\n",
    "\n",
    "\n",
    "print(\"-------------------------------------------------------------------------------------------\")\n",
    "\n",
    "\n",
    "\n",
    "\n",
    "\n",
    "print(\"\\n\\nDefine T1 and T2 from T\\n k is 2\\n\")\n",
    "k = 2\n",
    "\n",
    "bk = T[k-1, k]\n",
    "print(f\"\\nbk = {T[k-1, k]}\\n\")\n",
    "\n",
    "T1 = T[:k, :k].copy()\n",
    "T1[-1, 1] = T1[-1, -1] - T[k-1, k]\n",
    "print(f\"T1: \\n{T1}\\n\")\n",
    "\n",
    "T2 = T[k:, k:].copy()\n",
    "T2[0,0] = T2[0,0] - T[k-1, k]\n",
    "print(f\"T2: \\n{T2}\\n\")\n",
    "\n",
    "\n",
    "\n",
    "print(\"Since T1 and T2 are symmetric tridiagonal. we can find orthogonal matrices Q1 and Q2 \\nsuch that T1 = Q1D1Q1{} and T2 = Q2D2Q2{}\".format(getscrpt(\"t\",0), getscrpt(\"t\",0)))\n",
    "D1, Q1 = np.linalg.eig(T1)\n",
    "D1 = np.diag(D1)\n",
    "\n",
    "print(f\"\\nD1: \\t\\n{D1}\\n\")\n",
    "print(f\"Q1: \\n{Q1}\\n\\n\")\n",
    "print(\"Q1{}: \\n{}\\n\\n\".format(getscrpt(\"t\",0), Q1.T))\n",
    "\n",
    "\n",
    "D2, Q2 = np.linalg.eig(T2)\n",
    "D2 = np.diag(D2)\n",
    "\n",
    "print(f\"D2: \\n{D2}\\n\")\n",
    "print(f\"Q2: \\n{Q2}\\n\")\n",
    "print(\"Q2{}: \\n{}\\n\\n\".format(getscrpt(\"t\",0), Q2.T))\n",
    "\n",
    "\n",
    "\n",
    "v = np.zeros((len(T),1))\n",
    "\n",
    "for i in range(len(v)):\n",
    "    if i == k or i == k-1:\n",
    "        v[i] = 1\n",
    "\n",
    "\n",
    "print(f\"v: \\n{v}\\n\")\n",
    "def merge_diagonal(T1, T2):\n",
    "    row = len(T1) + len(T2)\n",
    "    col = len(T1[0]) + len(T2[0])\n",
    "\n",
    "    merged = np.zeros((row, col))\n",
    "    for i in range(len(T1)):\n",
    "        for j in range(len(T1[0])):\n",
    "            merged[i][j] = T1[i][j]\n",
    "        \n",
    "    for i in range(len(T1), len(T1) + len(T2)):\n",
    "        for j in range(len(T1[0]), len(T1[0]) + len(T2[0])):\n",
    "\n",
    "            merged[i][j] = T2[i - len(T1)][j - len(T1[0])] \n",
    "            \n",
    "    return merged\n",
    "\n",
    "\n",
    "\n",
    "\n",
    "\n",
    "Q_diag = merge_diagonal(Q1, Q2)\n",
    "print(f\"\\nQ Diagonal: \")\n",
    "\n",
    "print(f\"{Q_diag}\\n\")\n",
    "\n",
    "\n",
    "\n",
    "\n",
    "D_diag = merge_diagonal(D1, D2)\n",
    "print(f\"D Diagonal: \\n{D_diag}\\n\\n\")\n",
    "Q_T_diag = merge_diagonal(Q1.T, Q2.T)\n",
    "print(f\"Q.T Diagonal: \\n{Q_T_diag}\\n\\n\")\n",
    "u = np.dot(Q_T_diag, v)\n",
    "\n",
    "print(f\"u: \\n{u}\\n\")\n",
    "D_hat = D_diag + bk*np.dot(u,u.T)\n",
    "print(f\"D_hat: \\n{D_hat}\\n\")\n",
    "\n",
    "\n",
    "\n",
    "eig_val, eig_vec = np.linalg.eig(D_hat)\n",
    "\n",
    "print(f\"Eigen values and corresponding Eigen Vectors of D_hat are:\\n\")\n",
    "\n",
    "\n",
    "for i in range(len(D_hat)):\n",
    "    print(f\"lambda_{i+1}: {eig_val[i]}\")\n",
    "    print(f\"q_{i+1}: {eig_vec.T[i]}\")\n",
    "    print(\"\\n\\n\")\n",
    "\n",
    "\n",
    "\n",
    "I = np.identity(len(D_hat))\n",
    "l = eig_val[0]\n",
    "proof1 = np.round(1 + bk * np.dot( np.dot(u.T, np.linalg.inv(D_diag - l*I)), u), decimals = 3)\n",
    "\n",
    "proof2 = np.dot(np.linalg.inv(D_diag - l*I),u)\n",
    "proof2_n = proof2/LA.norm(proof2)\n",
    "\n"
   ]
  },
  {
   "cell_type": "code",
   "execution_count": 4,
   "metadata": {},
   "outputs": [
    {
     "name": "stdout",
     "output_type": "stream",
     "text": [
      "To validate the answers\n",
      "Write below equation and put values, lambda = 5.715031957585767\n"
     ]
    }
   ],
   "source": [
    "print(f\"To validate the answers\\nWrite below equation and put values, lambda = {eig_val[0]}\")"
   ]
  },
  {
   "cell_type": "markdown",
   "metadata": {},
   "source": [
    "\n",
    "$1 + b_ku^T(D - \\lambda I)^{-1} u .......eq1$\n"
   ]
  },
  {
   "cell_type": "code",
   "execution_count": 5,
   "metadata": {
    "code_folding": []
   },
   "outputs": [
    {
     "name": "stdout",
     "output_type": "stream",
     "text": [
      "After putting values, write the equation = zero(0) and L.H.S. = R.H.S\n"
     ]
    }
   ],
   "source": [
    "if proof1==0:\n",
    "    print(\"After putting values, write the equation = zero(0) and L.H.S. = R.H.S\")"
   ]
  },
  {
   "cell_type": "code",
   "execution_count": 6,
   "metadata": {},
   "outputs": [
    {
     "name": "stdout",
     "output_type": "stream",
     "text": [
      "Write below equation and put values, lambda = 5.715031957585767\n"
     ]
    }
   ],
   "source": [
    "print(f\"Write below equation and put values, lambda = {eig_val[0]}\")"
   ]
  },
  {
   "cell_type": "markdown",
   "metadata": {},
   "source": [
    "$(D - \\lambda I)^{-1}...........eq2$"
   ]
  },
  {
   "cell_type": "code",
   "execution_count": 7,
   "metadata": {},
   "outputs": [
    {
     "name": "stdout",
     "output_type": "stream",
     "text": [
      "After putting values, write the equation = \n",
      "[[ 6.84781131]\n",
      " [-0.07252589]\n",
      " [-0.30165622]], \n",
      "\n",
      "after normalizing = \n",
      "[[ 0.99897523]\n",
      " [-0.01058025]\n",
      " [-0.04400634]] \n",
      "= q_1\n",
      "\n",
      "L.H.S = R.H.S\n"
     ]
    }
   ],
   "source": [
    "print(f\"After putting values, write the equation = \\n{proof2}, \\n\\nafter normalizing = \\n{proof2_n} \\n= q_1\\n\\nL.H.S = R.H.S\")"
   ]
  }
 ],
 "metadata": {
  "kernelspec": {
   "display_name": "Python 3",
   "language": "python",
   "name": "python3"
  },
  "language_info": {
   "codemirror_mode": {
    "name": "ipython",
    "version": 3
   },
   "file_extension": ".py",
   "mimetype": "text/x-python",
   "name": "python",
   "nbconvert_exporter": "python",
   "pygments_lexer": "ipython3",
   "version": "3.7.1"
  },
  "latex_envs": {
   "LaTeX_envs_menu_present": true,
   "autoclose": false,
   "autocomplete": true,
   "bibliofile": "biblio.bib",
   "cite_by": "apalike",
   "current_citInitial": 1,
   "eqLabelWithNumbers": true,
   "eqNumInitial": 1,
   "hotkeys": {
    "equation": "Ctrl-E",
    "itemize": "Ctrl-I"
   },
   "labels_anchors": false,
   "latex_user_defs": false,
   "report_style_numbering": false,
   "user_envs_cfg": false
  },
  "toc": {
   "base_numbering": 1,
   "nav_menu": {},
   "number_sections": true,
   "sideBar": true,
   "skip_h1_title": false,
   "title_cell": "Table of Contents",
   "title_sidebar": "Contents",
   "toc_cell": false,
   "toc_position": {},
   "toc_section_display": true,
   "toc_window_display": false
  },
  "varInspector": {
   "cols": {
    "lenName": 16,
    "lenType": 16,
    "lenVar": 40
   },
   "kernels_config": {
    "python": {
     "delete_cmd_postfix": "",
     "delete_cmd_prefix": "del ",
     "library": "var_list.py",
     "varRefreshCmd": "print(var_dic_list())"
    },
    "r": {
     "delete_cmd_postfix": ") ",
     "delete_cmd_prefix": "rm(",
     "library": "var_list.r",
     "varRefreshCmd": "cat(var_dic_list()) "
    }
   },
   "types_to_exclude": [
    "module",
    "function",
    "builtin_function_or_method",
    "instance",
    "_Feature"
   ],
   "window_display": false
  }
 },
 "nbformat": 4,
 "nbformat_minor": 4
}
