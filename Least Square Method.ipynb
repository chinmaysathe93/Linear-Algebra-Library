{
 "cells": [
  {
   "cell_type": "code",
   "execution_count": 1,
   "metadata": {},
   "outputs": [],
   "source": [
    "import numpy as np\n",
    "\n",
    "# super -> (x,0,0)\n",
    "# super with brackets -> (x,1,0)\n",
    "# sub -> (x,0,1)\n",
    "# sub with brackets -> (x,1,1)\n",
    "\n",
    "def getscrpt(x,flag,subs=0):\n",
    "    if(type(x)==int):\n",
    "        x = str(x)\n",
    "    normal = \"t0123456789+-=()\"\n",
    "    super_s = \"ᵗ⁰¹²³⁴⁵⁶⁷⁸⁹⁺⁻⁼⁽⁾\"\n",
    "    sub_s = \"ₜ₀₁₂₃₄₅₆₇₈₉₊₋₌₍₎\"\n",
    "    if subs==1:\n",
    "        res = x.maketrans(''.join(normal), ''.join(sub_s))\n",
    "    else:\n",
    "        res = x.maketrans(''.join(normal), ''.join(super_s))\n",
    "    if flag==1:\n",
    "        if subs==1:\n",
    "            return \"₍\"+x.translate(res)+\"₎\"\n",
    "        else:\n",
    "            return \"⁽\"+x.translate(res)+\"⁾\"\n",
    "    else:\n",
    "        return x.translate(res) "
   ]
  },
  {
   "cell_type": "code",
   "execution_count": 2,
   "metadata": {},
   "outputs": [],
   "source": [
    "A = np.array([[1,1,1],\n",
    "             [2,0,0],\n",
    "             [0,2,0],\n",
    "             [0,0,2]])\n",
    "\n",
    "b = np.array([[1],[0],[0],[0]])"
   ]
  },
  {
   "cell_type": "code",
   "execution_count": 3,
   "metadata": {},
   "outputs": [
    {
     "name": "stdout",
     "output_type": "stream",
     "text": [
      "Aᵗ.A= \n",
      " [[5 1 1]\n",
      " [1 5 1]\n",
      " [1 1 5]]\n"
     ]
    }
   ],
   "source": [
    "AtA = np.dot(np.transpose(A),A)\n",
    "print(\"A{}.A= \\n {}\".format(getscrpt(\"t\",0,0),AtA))"
   ]
  },
  {
   "cell_type": "code",
   "execution_count": 4,
   "metadata": {
    "scrolled": true
   },
   "outputs": [
    {
     "name": "stdout",
     "output_type": "stream",
     "text": [
      "Aᵗ.b=[[1 1 1]]ᵗ\n"
     ]
    }
   ],
   "source": [
    "Atb = np.dot(np.transpose(A),b)\n",
    "print(\"A{}.b={}{}\".format(getscrpt(\"t\",0,0),np.transpose(Atb),getscrpt(\"t\",0,0)))"
   ]
  },
  {
   "cell_type": "code",
   "execution_count": 5,
   "metadata": {
    "scrolled": true
   },
   "outputs": [
    {
     "name": "stdout",
     "output_type": "stream",
     "text": [
      "Solve Aᵗ.A.X* = Aᵗ.b using any linear equation method like Gauss-Siedel,Cholesky etc.,\n"
     ]
    }
   ],
   "source": [
    "print(\"Solve Aᵗ.A.X* = Aᵗ.b using any linear equation method like Gauss-Siedel,Cholesky etc.,\")"
   ]
  },
  {
   "cell_type": "markdown",
   "metadata": {},
   "source": [
    "https://atozmath.com/CONM/GaussEli.aspx?q=GJ2"
   ]
  },
  {
   "cell_type": "code",
   "execution_count": 6,
   "metadata": {},
   "outputs": [
    {
     "name": "stdout",
     "output_type": "stream",
     "text": [
      "Final X* = [[0.14285714 0.14285714 0.14285714]]ᵗ\n"
     ]
    }
   ],
   "source": [
    "print(\"Final X* = {}{}\".format(np.transpose(np.linalg.solve(AtA,Atb)),getscrpt(\"t\",0,0)))"
   ]
  }
 ],
 "metadata": {
  "kernelspec": {
   "display_name": "Python 3",
   "language": "python",
   "name": "python3"
  },
  "language_info": {
   "codemirror_mode": {
    "name": "ipython",
    "version": 3
   },
   "file_extension": ".py",
   "mimetype": "text/x-python",
   "name": "python",
   "nbconvert_exporter": "python",
   "pygments_lexer": "ipython3",
   "version": "3.8.5"
  }
 },
 "nbformat": 4,
 "nbformat_minor": 4
}
