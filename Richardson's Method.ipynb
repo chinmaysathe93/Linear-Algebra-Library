{
 "cells": [
  {
   "cell_type": "code",
   "execution_count": 1,
   "metadata": {},
   "outputs": [],
   "source": [
    "import numpy as np\n",
    "\n",
    "# super -> (x,0,0)\n",
    "# super with brackets -> (x,1,0)\n",
    "# sub -> (x,0,1)\n",
    "# sub with brackets -> (x,1,1)\n",
    "\n",
    "def getscrpt(x,flag,subs=0):\n",
    "    if(type(x)==int):\n",
    "        x = str(x)\n",
    "    normal = \"t0123456789+-=()\"\n",
    "    super_s = \"ᵗ⁰¹²³⁴⁵⁶⁷⁸⁹⁺⁻⁼⁽⁾\"\n",
    "    sub_s = \"ₜ₀₁₂₃₄₅₆₇₈₉₊₋₌₍₎\"\n",
    "    if subs==1:\n",
    "        res = x.maketrans(''.join(normal), ''.join(sub_s))\n",
    "    else:\n",
    "        res = x.maketrans(''.join(normal), ''.join(super_s))\n",
    "    if flag==1:\n",
    "        if subs==1:\n",
    "            return \"₍\"+x.translate(res)+\"₎\"\n",
    "        else:\n",
    "            return \"⁽\"+x.translate(res)+\"⁾\"\n",
    "    else:\n",
    "        return x.translate(res) "
   ]
  },
  {
   "cell_type": "markdown",
   "metadata": {},
   "source": [
    "### Input Ay = b with X as initial vector"
   ]
  },
  {
   "cell_type": "code",
   "execution_count": 2,
   "metadata": {},
   "outputs": [],
   "source": [
    "A = np.array([[1,1/2,1/3],\n",
    "             [1/3,1,1/2],\n",
    "             [1/2,1/3,1]])\n",
    "\n",
    "b = np.array([[11/18],[11/18],[11/18]])\n",
    "\n",
    "X = np.array([[0],[0],[0]])"
   ]
  },
  {
   "cell_type": "markdown",
   "metadata": {},
   "source": [
    "## Iteration Steps:\n",
    "### 1. r = b-A*X\n",
    "### 2. X = X+r"
   ]
  },
  {
   "cell_type": "code",
   "execution_count": 3,
   "metadata": {},
   "outputs": [
    {
     "name": "stdout",
     "output_type": "stream",
     "text": [
      "r⁽⁰⁾ = b - AX⁽⁰⁾\n",
      "AX⁽⁰⁾ = [[0. 0. 0.]]ᵗ\n",
      "r⁽⁰⁾ = [[0.6111 0.6111 0.6111]]ᵗ\n",
      "X⁽¹⁾ = X⁽⁰⁾+ r⁽⁰⁾\n",
      "X⁽¹⁾= [[0.6111 0.6111 0.6111]]ᵗ\n",
      "\n",
      "r⁽¹⁾ = b - AX⁽¹⁾\n",
      "AX⁽¹⁾ = [[1.1204 1.1204 1.1204]]ᵗ\n",
      "r⁽¹⁾ = [[-0.5093 -0.5093 -0.5093]]ᵗ\n",
      "X⁽²⁾ = X⁽¹⁾+ r⁽¹⁾\n",
      "X⁽²⁾= [[0.1019 0.1019 0.1019]]ᵗ\n",
      "\n",
      "r⁽²⁾ = b - AX⁽²⁾\n",
      "AX⁽²⁾ = [[0.1867 0.1867 0.1867]]ᵗ\n",
      "r⁽²⁾ = [[0.4244 0.4244 0.4244]]ᵗ\n",
      "X⁽³⁾ = X⁽²⁾+ r⁽²⁾\n",
      "X⁽³⁾= [[0.5262 0.5262 0.5262]]ᵗ\n",
      "\n",
      "r⁽³⁾ = b - AX⁽³⁾\n",
      "AX⁽³⁾ = [[0.9648 0.9648 0.9648]]ᵗ\n",
      "r⁽³⁾ = [[-0.3537 -0.3537 -0.3537]]ᵗ\n",
      "X⁽⁴⁾ = X⁽³⁾+ r⁽³⁾\n",
      "X⁽⁴⁾= [[0.1726 0.1726 0.1726]]ᵗ\n",
      "\n"
     ]
    }
   ],
   "source": [
    "def rich_meth(A,X,b,i):\n",
    "    print(\"r{} = b - AX{}\".format(getscrpt(i,1,0),getscrpt(i,1,0)))\n",
    "    AX = np.dot(A,X)\n",
    "    np.set_printoptions(precision=4)\n",
    "    print(\"AX{} = {}{}\".format(getscrpt(i,1,0),np.transpose(AX),getscrpt(\"t\",0,0)))\n",
    "    r = b-AX\n",
    "    print(\"r{} = {}{}\".format(getscrpt(i,1,0),np.transpose(r),getscrpt(\"t\",0,0)))\n",
    "    \n",
    "    print(\"X{} = X{}+ r{}\".format(getscrpt(i+1,1,0),getscrpt(i,1,0),getscrpt(i,1,0)))\n",
    "    X=X+r\n",
    "    print(\"X{}= {}{}\".format(getscrpt(i+1,1,0),np.transpose(X),getscrpt(\"t\",0,0)))\n",
    "    return X\n",
    "\n",
    "for i in range(0,4):\n",
    "    X = rich_meth(A,X,b,i)\n",
    "    print()"
   ]
  }
 ],
 "metadata": {
  "kernelspec": {
   "display_name": "Python 3",
   "language": "python",
   "name": "python3"
  },
  "language_info": {
   "codemirror_mode": {
    "name": "ipython",
    "version": 3
   },
   "file_extension": ".py",
   "mimetype": "text/x-python",
   "name": "python",
   "nbconvert_exporter": "python",
   "pygments_lexer": "ipython3",
   "version": "3.8.5"
  }
 },
 "nbformat": 4,
 "nbformat_minor": 4
}
