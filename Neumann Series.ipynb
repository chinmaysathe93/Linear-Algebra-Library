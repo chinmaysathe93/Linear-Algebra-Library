{
 "cells": [
  {
   "cell_type": "code",
   "execution_count": 1,
   "metadata": {},
   "outputs": [],
   "source": [
    "import numpy as np\n",
    "\n",
    "# super -> (x,0,0)\n",
    "# super with brackets -> (x,1,0)\n",
    "# sub -> (x,0,1)\n",
    "# sub with brackets -> (x,1,1)\n",
    "\n",
    "def getscrpt(x,flag,subs=0):\n",
    "    if(type(x)==int):\n",
    "        x = str(x)\n",
    "    normal = \"t0123456789+-=()\"\n",
    "    super_s = \"ᵗ⁰¹²³⁴⁵⁶⁷⁸⁹⁺⁻⁼⁽⁾\"\n",
    "    sub_s = \"ₜ₀₁₂₃₄₅₆₇₈₉₊₋₌₍₎\"\n",
    "    if subs==1:\n",
    "        res = x.maketrans(''.join(normal), ''.join(sub_s))\n",
    "    else:\n",
    "        res = x.maketrans(''.join(normal), ''.join(super_s))\n",
    "    if flag==1:\n",
    "        if subs==1:\n",
    "            return \"₍\"+x.translate(res)+\"₎\"\n",
    "        else:\n",
    "            return \"⁽\"+x.translate(res)+\"⁾\"\n",
    "    else:\n",
    "        return x.translate(res) "
   ]
  },
  {
   "cell_type": "markdown",
   "metadata": {},
   "source": [
    "### 1.Input Matrix B"
   ]
  },
  {
   "cell_type": "code",
   "execution_count": 2,
   "metadata": {},
   "outputs": [],
   "source": [
    "B = np.array([[0.9,-0.2,-0.3],\n",
    "              [0.1,1.0,-0.1],\n",
    "              [0.3,0.2,1.1]])"
   ]
  },
  {
   "cell_type": "markdown",
   "metadata": {},
   "source": [
    "### 2.A = I-B"
   ]
  },
  {
   "cell_type": "code",
   "execution_count": 3,
   "metadata": {},
   "outputs": [],
   "source": [
    "I = np.identity(B.shape[0])"
   ]
  },
  {
   "cell_type": "code",
   "execution_count": 4,
   "metadata": {},
   "outputs": [
    {
     "name": "stdout",
     "output_type": "stream",
     "text": [
      "A=\n",
      " [[ 0.1  0.2  0.3]\n",
      " [-0.1  0.   0.1]\n",
      " [-0.3 -0.2 -0.1]]\n"
     ]
    }
   ],
   "source": [
    "A = I-B\n",
    "print(\"A=\\n\",A)"
   ]
  },
  {
   "cell_type": "markdown",
   "metadata": {},
   "source": [
    "### 3.Finding inf-Norm(A)< 1 implies the (absolute) convergence of the above series, and inf-Norm(A)> 1 implies that the series does not converge."
   ]
  },
  {
   "cell_type": "code",
   "execution_count": 5,
   "metadata": {},
   "outputs": [
    {
     "name": "stdout",
     "output_type": "stream",
     "text": [
      "infA = 0.6, thus Neumann Series will converge.\n"
     ]
    }
   ],
   "source": [
    "infA = np.linalg.norm(A,np.inf)\n",
    "print(\"infA = {0:0.1f}, thus Neumann Series will converge.\".format(infA))"
   ]
  },
  {
   "cell_type": "markdown",
   "metadata": {},
   "source": [
    "### 4. Iterations"
   ]
  },
  {
   "cell_type": "code",
   "execution_count": 6,
   "metadata": {},
   "outputs": [
    {
     "name": "stdout",
     "output_type": "stream",
     "text": [
      "for k=0\n",
      "[[1. 0. 0.]\n",
      " [0. 1. 0.]\n",
      " [0. 0. 1.]]\n",
      "\n",
      "for k=1\n",
      "[[ 1.1  0.2  0.3]\n",
      " [-0.1  1.   0.1]\n",
      " [-0.3 -0.2  0.9]]\n",
      "\n",
      "for k=2\n",
      "[[ 1.    0.16  0.32]\n",
      " [-0.14  0.96  0.06]\n",
      " [-0.28 -0.24  0.8 ]]\n",
      "\n",
      "for k=3\n",
      "[[ 0.988  0.136  0.284]\n",
      " [-0.128  0.96   0.048]\n",
      " [-0.244 -0.216  0.812]]\n",
      "\n",
      "for k=4\n",
      "[[ 1.      0.1408  0.2816]\n",
      " [-0.1232  0.9648  0.0528]\n",
      " [-0.2464 -0.2112  0.824 ]]\n",
      "\n",
      "for k=5\n",
      "[[ 1.00144  0.14368  0.28592]\n",
      " [-0.12464  0.9648   0.05424]\n",
      " [-0.25072 -0.21408  0.82256]]\n"
     ]
    }
   ],
   "source": [
    "Anew = np.identity(A.shape[0])\n",
    "print(\"for k=0\")\n",
    "print(Anew)\n",
    "for i in range(1,6):\n",
    "    Anew = np.linalg.matrix_power(A,i) + Anew\n",
    "    print(\"\\nfor k={0}\".format(i))\n",
    "    print(Anew)"
   ]
  },
  {
   "cell_type": "markdown",
   "metadata": {},
   "source": [
    "### 5. Do the iterations till k=n is similar to actual inverse(B)"
   ]
  },
  {
   "cell_type": "code",
   "execution_count": 7,
   "metadata": {},
   "outputs": [
    {
     "name": "stdout",
     "output_type": "stream",
     "text": [
      "B⁻¹ =\n",
      "[[ 1.          0.14285714  0.28571429]\n",
      " [-0.125       0.96428571  0.05357143]\n",
      " [-0.25       -0.21428571  0.82142857]]\n"
     ]
    }
   ],
   "source": [
    "print(\"B{}{} =\\n{}\".format(getscrpt('-',0,0),getscrpt(1,0,0),np.linalg.inv(B)))"
   ]
  }
 ],
 "metadata": {
  "kernelspec": {
   "display_name": "Python 3",
   "language": "python",
   "name": "python3"
  },
  "language_info": {
   "codemirror_mode": {
    "name": "ipython",
    "version": 3
   },
   "file_extension": ".py",
   "mimetype": "text/x-python",
   "name": "python",
   "nbconvert_exporter": "python",
   "pygments_lexer": "ipython3",
   "version": "3.8.5"
  }
 },
 "nbformat": 4,
 "nbformat_minor": 4
}
