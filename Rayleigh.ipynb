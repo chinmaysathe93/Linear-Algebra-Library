{
 "cells": [
  {
   "cell_type": "code",
   "execution_count": 1,
   "metadata": {},
   "outputs": [],
   "source": [
    "import numpy as np\n",
    "# super -> (x,0,0)\n",
    "# super with brackets -> (x,1,0)\n",
    "# sub -> (x,0,1)\n",
    "# sub with brackets -> (x,1,1)\n",
    "\n",
    "def getscrpt(x,flag,subs=0):\n",
    "    if(type(x)==int):\n",
    "        x = str(x)\n",
    "    normal = \"t0123456789+-=()\"\n",
    "    super_s = \"ᵗ⁰¹²³⁴⁵⁶⁷⁸⁹⁺⁻⁼⁽⁾\"\n",
    "    sub_s = \"ₜ₀₁₂₃₄₅₆₇₈₉₊₋₌₍₎\"\n",
    "    if subs==1:\n",
    "        res = x.maketrans(''.join(normal), ''.join(sub_s))\n",
    "    else:\n",
    "        res = x.maketrans(''.join(normal), ''.join(super_s))\n",
    "    if flag==1:\n",
    "        if subs==1:\n",
    "            return \"₍\"+x.translate(res)+\"₎\"\n",
    "        else:\n",
    "            return \"⁽\"+x.translate(res)+\"⁾\"\n",
    "    else:\n",
    "        return x.translate(res) "
   ]
  },
  {
   "cell_type": "markdown",
   "metadata": {},
   "source": [
    "### Input A"
   ]
  },
  {
   "cell_type": "code",
   "execution_count": 2,
   "metadata": {},
   "outputs": [],
   "source": [
    "A = np.array([[1,2,3],\n",
    "              [2,3,4],\n",
    "              [3,4,5]])"
   ]
  },
  {
   "cell_type": "markdown",
   "metadata": {},
   "source": [
    "### Just run below cell"
   ]
  },
  {
   "cell_type": "code",
   "execution_count": 3,
   "metadata": {},
   "outputs": [],
   "source": [
    "I = np.identity(A.shape[0])\n",
    "i=0"
   ]
  },
  {
   "cell_type": "markdown",
   "metadata": {},
   "source": [
    "### 1. Input X for every iteration"
   ]
  },
  {
   "cell_type": "code",
   "execution_count": 4,
   "metadata": {
    "scrolled": true
   },
   "outputs": [
    {
     "name": "stdout",
     "output_type": "stream",
     "text": [
      "Iteration =  1\n",
      "X₀ᵗ.A.X₀ = 17.8728\n",
      "X₀ᵗ.X₀ = 1.8572\n",
      "sigma₀ = 9.6235\n",
      "A-sigma₀I = \n",
      "[[-8.62347  2.       3.     ]\n",
      " [ 2.      -6.62347  4.     ]\n",
      " [ 3.       4.      -4.62347]]\n"
     ]
    }
   ],
   "source": [
    "#input X Again\n",
    "X = np.array([[0.5256],[0.7622],[1.0000]])\n",
    "\n",
    "print(\"Iteration = \",i+1)\n",
    "XAX = np.dot(np.dot(np.transpose(X),A),X)[0][0]\n",
    "print(\"X{}{}.A.X{} = {:.4f}\".format(getscrpt(i,0,1),getscrpt(\"t\",0),getscrpt(i,0,1),XAX))\n",
    "    \n",
    "XX = np.dot(np.transpose(X),X)[0][0]\n",
    "print(\"X{}{}.X{} = {:.4f}\".format(getscrpt(i,0,1),getscrpt(\"t\",0),getscrpt(i,0,1),XX))\n",
    "    \n",
    "sig = XAX/XX\n",
    "print(\"sigma{} = {:.4f}\".format(getscrpt(i,0,1),sig))\n",
    "\n",
    "AsI = A - sig*I\n",
    "np.set_printoptions(precision=5)\n",
    "print(\"A-sigma{}I = \\n{}\".format(getscrpt(i,0,1),AsI))"
   ]
  },
  {
   "cell_type": "markdown",
   "metadata": {},
   "source": [
    "###  2.Find inverse of A-Sigma*I using below calculator and copy it in invAsI:\n",
    "https://atozmath.com/matrix.aspx?q=inv"
   ]
  },
  {
   "cell_type": "code",
   "execution_count": 5,
   "metadata": {},
   "outputs": [
    {
     "name": "stdout",
     "output_type": "stream",
     "text": [
      "Xcap₁ = [[-21318.48022 -30974.35354 -40630.22708]]ᵗ\n",
      "X₁ = [[1.      1.45293 1.90587]]ᵗ\n",
      "---------------------------------------------\n"
     ]
    }
   ],
   "source": [
    "#input inverse value here\n",
    "invAsI = np.array([[-6024.1332,-8752.5252,-11481.0211],\n",
    "                  [-8752.5252,-12716.9500,-16681.1670],\n",
    "                  [-11481.0211,-16681.1670,-21881.4169]])\n",
    "\n",
    "Xcap = np.dot(invAsI,X)\n",
    "print(\"Xcap{} = {}{}\".format(getscrpt(i+1,0,1),np.transpose(Xcap),getscrpt(\"t\",0)))\n",
    "   \n",
    "X = Xcap/np.amax(Xcap)\n",
    "print(\"X{} = {}{}\".format(getscrpt(i+1,0,1),np.transpose(X),getscrpt(\"t\",0)))\n",
    "print(\"---------------------------------------------\")\n",
    "i=i+1"
   ]
  },
  {
   "cell_type": "markdown",
   "metadata": {},
   "source": [
    "### 3. Input new found X in Step 1 and run again for every iteration"
   ]
  }
 ],
 "metadata": {
  "kernelspec": {
   "display_name": "Python 3",
   "language": "python",
   "name": "python3"
  },
  "language_info": {
   "codemirror_mode": {
    "name": "ipython",
    "version": 3
   },
   "file_extension": ".py",
   "mimetype": "text/x-python",
   "name": "python",
   "nbconvert_exporter": "python",
   "pygments_lexer": "ipython3",
   "version": "3.8.5"
  }
 },
 "nbformat": 4,
 "nbformat_minor": 4
}
