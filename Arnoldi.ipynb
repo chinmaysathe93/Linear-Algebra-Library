{
 "cells": [
  {
   "cell_type": "code",
   "execution_count": 1,
   "metadata": {},
   "outputs": [],
   "source": [
    "import numpy as np\n",
    "\n",
    "# super -> (x,0,0)\n",
    "# super with brackets -> (x,1,0)\n",
    "# sub -> (x,0,1)\n",
    "# sub with brackets -> (x,1,1)\n",
    "\n",
    "def getscrpt(x,flag,subs=0):\n",
    "    if(type(x)==int):\n",
    "        x = str(x)\n",
    "    normal = \"t0123456789+-=()\"\n",
    "    super_s = \"ᵗ⁰¹²³⁴⁵⁶⁷⁸⁹⁺⁻⁼⁽⁾\"\n",
    "    sub_s = \"ₜ₀₁₂₃₄₅₆₇₈₉₊₋₌₍₎\"\n",
    "    if subs==1:\n",
    "        res = x.maketrans(''.join(normal), ''.join(sub_s))\n",
    "    else:\n",
    "        res = x.maketrans(''.join(normal), ''.join(super_s))\n",
    "    if flag==1:\n",
    "        if subs==1:\n",
    "            return \"₍\"+x.translate(res)+\"₎\"\n",
    "        else:\n",
    "            return \"⁽\"+x.translate(res)+\"⁾\"\n",
    "    else:\n",
    "        return x.translate(res) "
   ]
  },
  {
   "cell_type": "markdown",
   "metadata": {},
   "source": [
    "### Input A, m ,V[0]"
   ]
  },
  {
   "cell_type": "code",
   "execution_count": 2,
   "metadata": {},
   "outputs": [],
   "source": [
    "A=np.array([[1,2,3,4],\n",
    "            [2,3,4,5],\n",
    "            [3,4,5,6],\n",
    "            [4,5,6,7]])\n",
    "\n",
    "m=3\n",
    "\n",
    "V=np.zeros(shape=(m+1,A.shape[0]))\n",
    "V[0]=np.array([1,0,0,0])\n",
    "\n",
    "H=np.zeros(shape=(m+1,m))\n",
    "V[0]=V[0]/np.linalg.norm(V[0])"
   ]
  },
  {
   "cell_type": "code",
   "execution_count": 3,
   "metadata": {
    "scrolled": false
   },
   "outputs": [
    {
     "name": "stdout",
     "output_type": "stream",
     "text": [
      "Step 1: Generating Vector 2 & Volumn 1 of Hessenberg Matrix \n",
      "\n",
      "Vcap = AV₁=[1. 2. 3. 4.]ᵗ\n",
      "\n",
      "(Printing Column 1 of Hessenberg) \n",
      "\n",
      "H₁₁ = 1.0000\n",
      "\n",
      "Vcap = Vcap - H₁₁V₁ = [0. 2. 3. 4.]ᵗ \n",
      "\n",
      "H₂₁ = 5.3852 \n",
      "\n",
      "(Printing Vector 2) \n",
      "\n",
      "V₂ = [0.000000 0.371391 0.557086 0.742781] \n",
      "\n",
      "--------------------------------------------------\n",
      "Step 2: Generating Vector 3 & Volumn 2 of Hessenberg Matrix \n",
      "\n",
      "Vcap = AV₂=[5.385165 7.056423 8.727681 10.398939]ᵗ\n",
      "\n",
      "(Printing Column 2 of Hessenberg) \n",
      "\n",
      "H₁₂ = 5.3852\n",
      "\n",
      "Vcap = Vcap - H₁₂V₁ = [0.000000 7.056423 8.727681 10.398939]ᵗ \n",
      "\n",
      "H₂₂ = 15.2069\n",
      "\n",
      "Vcap = Vcap - H₂₂V₂ = [0.000000 1.408723 0.256132 -0.896460]ᵗ \n",
      "\n",
      "H₃₂ = 1.6893 \n",
      "\n",
      "(Printing Vector 3) \n",
      "\n",
      "V₃ = [0.000000 0.833908 0.151620 -0.530669] \n",
      "\n",
      "--------------------------------------------------\n",
      "Step 3: Generating Vector 4 & Volumn 3 of Hessenberg Matrix \n",
      "\n",
      "Vcap = AV₃=[0.000000 0.454859 0.909718 1.364576]ᵗ\n",
      "\n",
      "(Printing Column 3 of Hessenberg) \n",
      "\n",
      "H₁₃ = 0.0000\n",
      "\n",
      "Vcap = Vcap - H₁₃V₁ = [0.000000 0.454859 0.909718 1.364576]ᵗ \n",
      "\n",
      "H₂₃ = 1.6893\n",
      "\n",
      "Vcap = Vcap - H₂₃V₂ = [0.000000 -0.172533 -0.031370 0.109794]ᵗ \n",
      "\n",
      "H₃₃ = -0.2069\n",
      "\n",
      "Vcap = Vcap - H₃₃V₃ = [0.000000 0.000000 -0.000000 0.000000]ᵗ \n",
      "\n",
      "H₄₃ = 0.0000 \n",
      "\n",
      "(Printing Vector 4) \n",
      "\n",
      "V₄ = [0.000000 0.654678 -0.133911 0.743952] \n",
      "\n",
      "--------------------------------------------------\n"
     ]
    }
   ],
   "source": [
    "for k in range(1,m+1):\n",
    "    print(\"Step {}: Generating Vector {} & Volumn {} of Hessenberg Matrix \\n\".format(k,k+1,k))\n",
    "    \n",
    "    temp=V[k-1].reshape(V[k-1].shape[0],1)\n",
    "    v_cap=np.matmul(A,temp)\n",
    "    print(\"Vcap = AV{}={}{}\\n\".format(getscrpt(k,0,1),v_cap.T[0],getscrpt(\"t\",0,0)))\n",
    "    \n",
    "    print(\"(Printing Column {} of Hessenberg) \\n\".format(k))\n",
    "    for j in range(1,k+1):        \n",
    "        H[j-1][k-1]=np.dot(V[j-1],v_cap)\n",
    "        print(\"H{}{} = {:.4f}\\n\".format(getscrpt(j,0,1),getscrpt(k,0,1),H[j-1][k-1]))\n",
    "        temp2=V[j-1].reshape(V[j-1].shape[0],1)\n",
    "        v_cap=np.subtract(v_cap,H[j-1][k-1]*temp2)\n",
    "        print(\"Vcap = Vcap - H{}{}V{} = {}{} \\n\".format(getscrpt(j,0,1),getscrpt(k,0,1),getscrpt(j,0,1),v_cap.T[0],getscrpt(\"t\",0,0)))\n",
    "        \n",
    "    H[k+1-1][k-1]=np.linalg.norm(v_cap)\n",
    "    print(\"H{}{} = {:.4f} \\n\".format(getscrpt(k+1,0,1),getscrpt(k,0,1),H[k+1-1][k-1]))\n",
    "    \n",
    "    if(H[k+1-1][k-1]==0):\n",
    "        break\n",
    "    print(\"(Printing Vector {}) \\n\".format(k+1))\n",
    "    np.set_printoptions(formatter={'float_kind':'{:f}'.format})\n",
    "    V[k]=list(v_cap/H[k][k-1])\n",
    "    print(\"V{} = {} \\n\".format(getscrpt(k+1,0,1),V[k]))\n",
    "    print(\"--------------------------------------------------\")"
   ]
  },
  {
   "cell_type": "code",
   "execution_count": 4,
   "metadata": {},
   "outputs": [
    {
     "name": "stdout",
     "output_type": "stream",
     "text": [
      "[[1.000000 0.000000 0.000000 0.000000]\n",
      " [0.000000 0.371391 0.833908 0.654678]\n",
      " [0.000000 0.557086 0.151620 -0.133911]\n",
      " [0.000000 0.742781 -0.530669 0.743952]]\n"
     ]
    }
   ],
   "source": [
    "print(V.T)"
   ]
  },
  {
   "cell_type": "code",
   "execution_count": 5,
   "metadata": {},
   "outputs": [
    {
     "name": "stdout",
     "output_type": "stream",
     "text": [
      "[[1.000000 5.385165 0.000000]\n",
      " [5.385165 15.206897 1.689303]\n",
      " [0.000000 1.689303 -0.206897]\n",
      " [0.000000 0.000000 0.000000]]\n"
     ]
    }
   ],
   "source": [
    "print(H)"
   ]
  }
 ],
 "metadata": {
  "colab": {
   "name": "Untitled0.ipynb",
   "provenance": []
  },
  "kernelspec": {
   "display_name": "Python 3",
   "language": "python",
   "name": "python3"
  },
  "language_info": {
   "codemirror_mode": {
    "name": "ipython",
    "version": 3
   },
   "file_extension": ".py",
   "mimetype": "text/x-python",
   "name": "python",
   "nbconvert_exporter": "python",
   "pygments_lexer": "ipython3",
   "version": "3.8.5"
  }
 },
 "nbformat": 4,
 "nbformat_minor": 1
}
