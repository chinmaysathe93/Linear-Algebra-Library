{
 "cells": [
  {
   "cell_type": "code",
   "execution_count": 1,
   "metadata": {},
   "outputs": [],
   "source": [
    "import numpy as np\n",
    "\n",
    "# super -> (x,0,0)\n",
    "# super with brackets -> (x,1,0)\n",
    "# sub -> (x,0,1)\n",
    "# sub with brackets -> (x,1,1)\n",
    "\n",
    "def getscrpt(x,flag,subs=0):\n",
    "    if(type(x)==int):\n",
    "        x = str(x)\n",
    "    normal = \"t0123456789+-=()\"\n",
    "    super_s = \"ᵗ⁰¹²³⁴⁵⁶⁷⁸⁹⁺⁻⁼⁽⁾\"\n",
    "    sub_s = \"ₜ₀₁₂₃₄₅₆₇₈₉₊₋₌₍₎\"\n",
    "    if subs==1:\n",
    "        res = x.maketrans(''.join(normal), ''.join(sub_s))\n",
    "    else:\n",
    "        res = x.maketrans(''.join(normal), ''.join(super_s))\n",
    "    if flag==1:\n",
    "        if subs==1:\n",
    "            return \"₍\"+x.translate(res)+\"₎\"\n",
    "        else:\n",
    "            return \"⁽\"+x.translate(res)+\"⁾\"\n",
    "    else:\n",
    "        return x.translate(res) "
   ]
  },
  {
   "cell_type": "markdown",
   "metadata": {},
   "source": [
    "### Input A, m, V[1], W[1]"
   ]
  },
  {
   "cell_type": "code",
   "execution_count": 2,
   "metadata": {},
   "outputs": [],
   "source": [
    "#Inputs\n",
    "A = np.array([[1,2,3],[3,4,5],[6,7,8]])\n",
    "m = 2\n",
    "\n",
    "V = np.zeros(shape=(m+2,A.shape[0]))#here vectors are save row wise and start from row number 1\n",
    "V[0] = np.array([0,0,0])\n",
    "W=np.zeros(shape=(m+2,A.shape[0]))\n",
    "W[0]=np.array([0,0,0])\n",
    "\n",
    "#Inputs\n",
    "V[1] = np.array([1,0,0])\n",
    "W[1]=np.array([2,2,0])\n",
    "\n",
    "B = np.zeros(shape=(m+1,1))\n",
    "D = np.zeros(shape=(m+1,1))\n",
    "Al = np.zeros(shape=(m,1))\n",
    "\n",
    "W[1]=W[1]/2"
   ]
  },
  {
   "cell_type": "code",
   "execution_count": 16,
   "metadata": {
    "scrolled": false
   },
   "outputs": [
    {
     "name": "stdout",
     "output_type": "stream",
     "text": [
      "Iteration : 1\n",
      "\n",
      "alpha₁ = 4.0000\n",
      "\n",
      "Vcap₂ = [-3.  3.  6.]ᵗ \n",
      "\n",
      "Wcap₂ = [0. 2. 8.]ᵗ \n",
      "\n",
      "delta₂ = 7.3485 \n",
      "\n",
      "beta₂ = 7.3485 \n",
      "\n",
      "W₂ = [0.     0.2722 1.0887]ᵗ \n",
      "\n",
      "V₂ = [-0.4082  0.4082  0.8165]ᵗ \n",
      "\n",
      "-------------------------------------------\n",
      "Iteration : 2\n",
      "\n",
      "alpha₂ = 8.7778\n",
      "\n",
      "Vcap₃ = [-0.9072  0.9072 -0.2268]ᵗ \n",
      "\n",
      "Wcap₃ = [ 0.     -1.0282  0.5141]ᵗ \n",
      "\n",
      "delta₃ = 1.0244 \n",
      "\n",
      "beta₃ = -1.0244 \n",
      "\n",
      "W₃ = [-0.      1.0037 -0.5018]ᵗ \n",
      "\n",
      "V₃ = [-0.8856  0.8856 -0.2214]ᵗ \n",
      "\n",
      "-------------------------------------------\n"
     ]
    }
   ],
   "source": [
    "for  j in range(1,m+1):\n",
    "    print(\"Iteration :\", j)\n",
    "    temp_V1=V[j].reshape(V[j].shape[0],1)\n",
    "    temp_V2=V[j-1].reshape(V[j-1].shape[0],1)\n",
    "    temp_W1=W[j].reshape(V[j].shape[0],1)\n",
    "    temp_W2=W[j-1].reshape(V[j-1].shape[0],1)\n",
    "    \n",
    "    Al[j-1]=np.matmul(temp_W1.T,np.matmul(A,temp_V1))\n",
    "    np.set_printoptions(precision=4)\n",
    "    print(\"\\nalpha{} = {:.4f}\\n\".format(getscrpt(j,0,1),Al[j-1][0]))\n",
    "    \n",
    "    v_cap=np.matmul(A,temp_V1)-Al[j-1]*temp_V1-B[j-1]*temp_V2\n",
    "    print(\"Vcap{} = {}{} \\n\".format(getscrpt(j+1,0,1),v_cap.T[0],getscrpt(\"t\",0,0)))\n",
    "    \n",
    "    w_cap=np.matmul(A.T,temp_W1)-Al[j-1]*temp_W1-D[j-1]*temp_W2\n",
    "    print(\"Wcap{} = {}{} \\n\".format(getscrpt(j+1,0,1),w_cap.T[0],getscrpt(\"t\",0,0)))\n",
    "    \n",
    "    temp=np.dot(w_cap.T,v_cap)\n",
    "    D[j]=np.sqrt(abs(temp))\n",
    "    print(\"delta{} = {:.4f} \\n\".format(getscrpt(j+1,0,1),D[j][0]))\n",
    "    \n",
    "    B[j]=temp/D[j]\n",
    "    print(\"beta{} = {:.4f} \\n\".format(getscrpt(j+1,0,1),B[j][0]))\n",
    "    \n",
    "    W[j+1]=list(w_cap/B[j])\n",
    "    print(\"W{} = {}{} \\n\".format(getscrpt(j+1,0,1),W[j+1],getscrpt(\"t\",0,0)))\n",
    "    \n",
    "    V[j+1]=list(v_cap/D[j])\n",
    "    print(\"V{} = {}{} \\n\".format(getscrpt(j+1,0,1),V[j+1],getscrpt(\"t\",0,0)))\n",
    "    print(\"-------------------------------------------\")"
   ]
  },
  {
   "cell_type": "code",
   "execution_count": 12,
   "metadata": {},
   "outputs": [
    {
     "data": {
      "text/plain": [
       "array([[ 0.    ,  0.    ,  0.    ],\n",
       "       [ 1.    ,  0.    ,  0.    ],\n",
       "       [-0.4082,  0.4082,  0.8165],\n",
       "       [-0.8856,  0.8856, -0.2214]])"
      ]
     },
     "execution_count": 12,
     "metadata": {},
     "output_type": "execute_result"
    }
   ],
   "source": [
    "V"
   ]
  },
  {
   "cell_type": "code",
   "execution_count": 14,
   "metadata": {},
   "outputs": [
    {
     "data": {
      "text/plain": [
       "array([[ 0.    ,  0.    ,  0.    ],\n",
       "       [ 1.    ,  1.    ,  0.    ],\n",
       "       [ 0.    ,  0.2722,  1.0887],\n",
       "       [-0.    ,  1.0037, -0.5018]])"
      ]
     },
     "execution_count": 14,
     "metadata": {},
     "output_type": "execute_result"
    }
   ],
   "source": [
    "W"
   ]
  }
 ],
 "metadata": {
  "kernelspec": {
   "display_name": "Python 3",
   "language": "python",
   "name": "python3"
  },
  "language_info": {
   "codemirror_mode": {
    "name": "ipython",
    "version": 3
   },
   "file_extension": ".py",
   "mimetype": "text/x-python",
   "name": "python",
   "nbconvert_exporter": "python",
   "pygments_lexer": "ipython3",
   "version": "3.8.5"
  }
 },
 "nbformat": 4,
 "nbformat_minor": 4
}
