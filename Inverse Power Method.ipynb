{
 "cells": [
  {
   "cell_type": "code",
   "execution_count": 1,
   "metadata": {},
   "outputs": [],
   "source": [
    "import numpy as np\n",
    "\n",
    "# super -> (x,0,0)\n",
    "# super with brackets -> (x,1,0)\n",
    "# sub -> (x,0,1)\n",
    "# sub with brackets -> (x,1,1)\n",
    "\n",
    "def getscrpt(x,flag,subs=0):\n",
    "    if(type(x)==int):\n",
    "        x = str(x)\n",
    "    normal = \"t0123456789+-=()\"\n",
    "    super_s = \"ᵗ⁰¹²³⁴⁵⁶⁷⁸⁹⁺⁻⁼⁽⁾\"\n",
    "    sub_s = \"ₜ₀₁₂₃₄₅₆₇₈₉₊₋₌₍₎\"\n",
    "    if subs==1:\n",
    "        res = x.maketrans(''.join(normal), ''.join(sub_s))\n",
    "    else:\n",
    "        res = x.maketrans(''.join(normal), ''.join(super_s))\n",
    "    if flag==1:\n",
    "        if subs==1:\n",
    "            return \"₍\"+x.translate(res)+\"₎\"\n",
    "        else:\n",
    "            return \"⁽\"+x.translate(res)+\"⁾\"\n",
    "    else:\n",
    "        return x.translate(res) "
   ]
  },
  {
   "cell_type": "markdown",
   "metadata": {},
   "source": [
    "### Inputs "
   ]
  },
  {
   "cell_type": "code",
   "execution_count": 2,
   "metadata": {},
   "outputs": [],
   "source": [
    "A = np.array([[1,2,3],\n",
    "             [2,3,4],\n",
    "             [3,4,5]])\n",
    "\n",
    "X = np.array([[1],[1],[1]])"
   ]
  },
  {
   "cell_type": "markdown",
   "metadata": {},
   "source": [
    "### Iterations"
   ]
  },
  {
   "cell_type": "code",
   "execution_count": 3,
   "metadata": {},
   "outputs": [
    {
     "name": "stdout",
     "output_type": "stream",
     "text": [
      "AX⁽⁰⁾ = [[ 6  9 12]]ᵗ\n",
      "Lambda⁽¹⁾ = 6.0000\n",
      "Xcap⁽¹⁾ = [[1.  1.5 2. ]]ᵗ\n",
      "Xnorm = 2.6926\n",
      "X⁽¹⁾ = [[0.3714 0.5571 0.7428]]ᵗ\n",
      "\n",
      "AX⁽¹⁾ = [[3.7139 5.3852 7.0564]]ᵗ\n",
      "Lambda⁽²⁾ = 3.7139\n",
      "Xcap⁽²⁾ = [[1.   1.45 1.9 ]]ᵗ\n",
      "Xnorm = 2.5908\n",
      "X⁽²⁾ = [[0.386  0.5597 0.7334]]ᵗ\n",
      "\n",
      "AX⁽²⁾ = [[3.7053 5.3843 7.0633]]ᵗ\n",
      "Lambda⁽³⁾ = 3.7053\n",
      "Xcap⁽³⁾ = [[1.     1.4531 1.9062]]ᵗ\n",
      "Xnorm = 2.5972\n",
      "X⁽³⁾ = [[0.385  0.5595 0.734 ]]ᵗ\n",
      "\n",
      "AX⁽³⁾ = [[3.7059 5.3844 7.0629]]ᵗ\n",
      "Lambda⁽⁴⁾ = 3.7059\n",
      "Xcap⁽⁴⁾ = [[1.     1.4529 1.9058]]ᵗ\n",
      "Xnorm = 2.5968\n",
      "X⁽⁴⁾ = [[0.3851 0.5595 0.7339]]ᵗ\n",
      "\n",
      "AX⁽⁴⁾ = [[3.7059 5.3844 7.063 ]]ᵗ\n",
      "Lambda⁽⁵⁾ = 3.7059\n",
      "Xcap⁽⁵⁾ = [[1.     1.4529 1.9059]]ᵗ\n",
      "Xnorm = 2.5968\n",
      "X⁽⁵⁾ = [[0.3851 0.5595 0.7339]]ᵗ\n",
      "\n"
     ]
    }
   ],
   "source": [
    "def inpow(A,X,i):\n",
    "    AX = np.dot(A,X)\n",
    "    np.set_printoptions(precision=4)\n",
    "    print(\"AX{} = {}{}\".format(getscrpt(i,1,0),np.transpose(AX),getscrpt(\"t\",0,0)))\n",
    "    \n",
    "    lamb = np.amin(AX)\n",
    "    print(\"Lambda{} = {:.4f}\".format(getscrpt(i+1,1,0),lamb))\n",
    "    \n",
    "    Xcap = AX/lamb\n",
    "    print(\"Xcap{} = {}{}\".format(getscrpt(i+1,1,0),np.transpose(Xcap),getscrpt(\"t\",0,0)))\n",
    "    \n",
    "    Xnorm = np.linalg.norm(Xcap,2)\n",
    "    print(\"Xnorm = {:.4f}\".format(Xnorm))\n",
    "    \n",
    "    X = Xcap/Xnorm\n",
    "    print(\"X{} = {}{}\".format(getscrpt(i+1,1,0),np.transpose(X),getscrpt(\"t\",0,0)))\n",
    "    return X\n",
    "\n",
    "for i in range(0,5):\n",
    "    X = inpow(A,X,i)\n",
    "    print(\"\")"
   ]
  }
 ],
 "metadata": {
  "kernelspec": {
   "display_name": "Python 3",
   "language": "python",
   "name": "python3"
  },
  "language_info": {
   "codemirror_mode": {
    "name": "ipython",
    "version": 3
   },
   "file_extension": ".py",
   "mimetype": "text/x-python",
   "name": "python",
   "nbconvert_exporter": "python",
   "pygments_lexer": "ipython3",
   "version": "3.8.5"
  }
 },
 "nbformat": 4,
 "nbformat_minor": 4
}
